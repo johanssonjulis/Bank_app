{
 "cells": [
  {
   "cell_type": "code",
   "execution_count": 1,
   "id": "951aac4c",
   "metadata": {},
   "outputs": [],
   "source": [
    "class Account:\n",
    "    def __init__(self, account_number, balance):\n",
    "        self.account_number = account_number\n",
    "        self.balance = balance\n",
    "    \n",
    "    def print_info(self):\n",
    "        print(f\" Accountnumber: {self.account_number}, Balance: {self.balance}\")\n",
    "        \n",
    "    def change_balance(self, new_balance):\n",
    "        self.balance += new_balance #Den tar både plus och minus\n",
    "        return self.balance\n",
    "       \n",
    "    def get_balance(self):\n",
    "        return print(self.balance)\n",
    "    \n",
    "    def __str__(self):\n",
    "        return f\"Accountnumber: {self.account_number}, Balance: {self.balance}\"\n",
    "    \n",
    "    def __repr__(self):\n",
    "        return f\"Accountnumber: {self.account_number}, Balance: {self.balance}\"\n",
    "    \n",
    "    def make_dictionary_account(self):\n",
    "        dictionary = {}\n",
    "        dictionary[\"account_number\"] = self.account_number\n",
    "        dictionary[\"balance\"] = self.balance\n",
    "        return dictionary"
   ]
  },
  {
   "cell_type": "code",
   "execution_count": 2,
   "id": "1c88d35c",
   "metadata": {},
   "outputs": [],
   "source": [
    "class Customer:\n",
    "    def __init__(self, username, password):\n",
    "        self.username = username\n",
    "        self.password = password\n",
    "        self.account_list = []\n",
    "        self.account_number = 1\n",
    "        \n",
    "    def print_info(self):\n",
    "        print(self.username, self.account_list)\n",
    "        \n",
    "    def check_password(self, password):\n",
    "        if self.password == password:\n",
    "            print(\"Right password.\")\n",
    "            return True\n",
    "        print(\"Incorrect password.\")\n",
    "        return False\n",
    "        \n",
    "    def add_account(self, balance): #ska lägga till accounts till min privata lista\n",
    "        self.account_number += 1\n",
    "        self.account_list.append(Account(self.account_number, balance))\n",
    "        print(\"Account added.\")\n",
    "        \n",
    "    def __str__(self):\n",
    "        return f\"{self.username}, {self.password}\"\n",
    "    \n",
    "    def __repr__(self):\n",
    "        return f\"username: {self.username}, password: {self.password}\"   \n",
    "    \n",
    "    def make_dictionary_customer(self):\n",
    "        dictionary = {}\n",
    "        dictionary[\"username\"] = self.username\n",
    "        dictionary[\"password\"] = self.password\n",
    "        dictionary[\"account_list\"] = []\n",
    "        for account in self.account_list:\n",
    "            dictionary[\"account_list\"].append(account.make_dictionary_account())\n",
    "        return dictionary"
   ]
  },
  {
   "cell_type": "code",
   "execution_count": 3,
   "id": "f7cc5d8f",
   "metadata": {},
   "outputs": [],
   "source": [
    "import json\n",
    "\n",
    "class Bank:\n",
    "    def __init__(self, bank_name):\n",
    "        self.bank_name = bank_name\n",
    "        self.customer_list = []\n",
    "        self.current_customer = None\n",
    "        self.bank_dictionary_list = []\n",
    "        \n",
    "    def online(self): #en variabel som ska innehålla inloggad kund, vissa funk ska endast fungera ifall kund är inloggad\n",
    "        if self.current_customer != None:\n",
    "            return True\n",
    "        return False\n",
    "    \n",
    "    def add_account(self, balance = 0): #ska hitta rätt kund och sedan anv. add_acc från den customern\n",
    "        if self.online():\n",
    "            return self.current_customer.add_account(balance)\n",
    "        else:\n",
    "            return print(\"User not online.\")\n",
    "        \n",
    "    def get_customers(self): #lista alla kunder\n",
    "        for customer in self.customer_list:\n",
    "            print(customer)\n",
    "        \n",
    "    def add_customer(self, username, password):\n",
    "        if self.get_customer(username) == False:\n",
    "            self.customer_list.append(Customer(username, password))\n",
    "        else:\n",
    "            return print(\"Username already exist.\")\n",
    "    \n",
    "    def get_customer(self, sought_username):#hämta en kund via användarnamn\n",
    "        for customer in self.customer_list:\n",
    "            if customer.username == sought_username:\n",
    "                return customer\n",
    "        return False\n",
    "                \n",
    "    def change_customer_password(self, username, new_password): #loopa igenom användare, när dem hittat den vi letar efter sätter vi password == new_password\n",
    "        if self.online():\n",
    "            for customer in self.customer_list:\n",
    "                if customer.username == username:\n",
    "                    customer.password = new_password\n",
    "                    print(\"Password successfully changed.\")\n",
    "                    return customer.password\n",
    "                else: \n",
    "                    return print(\"Could not change password.\")\n",
    "        else:\n",
    "            return print(\"User not logged in.\")\n",
    "    \n",
    "    def remove_customer(self, username):\n",
    "        for customer in self.customer_list:\n",
    "            if customer.username == username:\n",
    "                self.customer_list.remove(customer)\n",
    "                print(\"Customer removed.\")\n",
    "    \n",
    "    def login(self, username, password):\n",
    "        for user in self.customer_list:        \n",
    "            if username == user.username and password == user.password:\n",
    "                self.current_customer = user\n",
    "                print(\"User logged in.\")\n",
    "         \n",
    "    def logout(self): #ta bort nuvarande anv från inloggade variabeln\n",
    "        self.current_customer = None\n",
    "        print(\"User logged out.\")\n",
    "    \n",
    "    def get_accounts(self): #hämta alla konton som tillhör anv. som just nu är inloggad\n",
    "        if self.online():\n",
    "            return self.get_customer(self.current_customer.username).account_list\n",
    "        else: \n",
    "            return print(\"User not online.\")\n",
    "    \n",
    "    def remove_account(self, account_number): #ta bort ett konto för den kund som är inloggad\n",
    "        if self.online():\n",
    "            for account in self.current_customer.account_list:\n",
    "                if account.account_number == account_number:\n",
    "                    self.current_customer.account_list.remove(account)\n",
    "                    return print(\"Success!\")\n",
    "                return print(\"Not a valid number.\")\n",
    "        else:\n",
    "            return print(\"User not online.\")\n",
    "               \n",
    "    \n",
    "    def get_account(self, account_number):\n",
    "        if self.online():\n",
    "            for account in self.current_customer.account_list:\n",
    "                if account.account_number == account_number:\n",
    "                    return account\n",
    "                return False\n",
    "        else:\n",
    "            return print(\"User not online.\")\n",
    "        \n",
    "        \n",
    "    def deposit(self, account_number, amount): #loopa igenom customer accounts\n",
    "        if amount < 0:\n",
    "            print(\"Can't be a negative number.\")\n",
    "            return\n",
    "        if self.online() == True:\n",
    "            for account in self.current_customer.account_list:\n",
    "                if account.account_number == account_number:\n",
    "                    account.change_balance(amount)\n",
    "                    return print(\"Deposit succeeded.\")\n",
    "                return print(f\"Account {account_number} could not be found.\") \n",
    "        else:\n",
    "            return print(\"User not online.\")\n",
    "    \n",
    "    def withdraw(self, account_number, amount):\n",
    "        if amount < 0:\n",
    "            return print(\"Can't be a negative number.\")\n",
    "            if self.online():\n",
    "                for account in self.current_customer.account_list:\n",
    "                    if account.account_number == account_number:\n",
    "                        if account.balance < amount:\n",
    "                            return print(\"Insufficent funds.\")\n",
    "                    account.change_balance(- amount)\n",
    "                    return print(\"Withdraw succeeded.\")\n",
    "            print(f\"Account {account_number} could not be found.\")\n",
    "        else:\n",
    "            return print(\"User not online.\")\n",
    "        \n",
    "    def save_customer(self):\n",
    "        file = open(\"bank.json\", \"w\")\n",
    "        for customer in self.customer_list:\n",
    "            self.bank_dictionary_list.append(customer.make_dictionary_customer())\n",
    "        json_string = json.dumps(self.bank_dictionary_list, indent = 2)\n",
    "        file.write(json_string)\n",
    "        file.close()\n",
    "        self.customer_list.clear()\n",
    "        self.bank_dictionary_list.clear()\n",
    "                  \n",
    "                  \n",
    "    def load_customer(self):\n",
    "        self.customer_list.clear()\n",
    "        with open(\"bank.json\", \"r\") as file:\n",
    "            dictionary = json.load(file)\n",
    "        for customer_dictionary in dictionary:\n",
    "            customer = Customer(customer_dictionary[\"username\"], customer_dictionary[\"password\"])\n",
    "            self.customer_list.append(customer)\n",
    "            for account_dictionary in customer_dictionary[\"account_list\"]:\n",
    "                account = Account(account_dictionary[\"account_number\"], account_dictionary[\"balance\"])\n",
    "                customer.account_list.append(account)\n",
    "        for customer in self.customer_list:\n",
    "            print(f\"Customer: {customer.username}, Password: {customer.password}\")\n",
    "            for account in customer.account_list:\n",
    "                print(f\"Account: {account.account_number}, Balance: {account.balance}\")\n",
    "        file.close()\n"
   ]
  },
  {
   "cell_type": "code",
   "execution_count": 4,
   "id": "6f9739e1",
   "metadata": {},
   "outputs": [],
   "source": [
    "bank = Bank(\"Banken\")"
   ]
  },
  {
   "cell_type": "code",
   "execution_count": 5,
   "id": "c2b91c00",
   "metadata": {},
   "outputs": [],
   "source": [
    "bank.add_customer(\"Julia\", \"lösen\")\n",
    "bank.add_customer(\"Malin\", \"lösen\")\n",
    "bank.add_customer(\"Joakim\", \"lösen\")\n",
    "bank.add_customer(\"Andreas\", \"lösen\")"
   ]
  },
  {
   "cell_type": "code",
   "execution_count": 6,
   "id": "747815bb",
   "metadata": {},
   "outputs": [
    {
     "name": "stdout",
     "output_type": "stream",
     "text": [
      "Julia, lösen\n",
      "Malin, lösen\n",
      "Joakim, lösen\n",
      "Andreas, lösen\n"
     ]
    }
   ],
   "source": [
    "bank.get_customers()"
   ]
  },
  {
   "cell_type": "code",
   "execution_count": 7,
   "id": "02470d5f",
   "metadata": {},
   "outputs": [
    {
     "name": "stdout",
     "output_type": "stream",
     "text": [
      "Customer removed.\n"
     ]
    }
   ],
   "source": [
    "bank.remove_customer(\"Andreas\")"
   ]
  },
  {
   "cell_type": "code",
   "execution_count": 8,
   "id": "2111b98b",
   "metadata": {},
   "outputs": [
    {
     "data": {
      "text/plain": [
       "False"
      ]
     },
     "execution_count": 8,
     "metadata": {},
     "output_type": "execute_result"
    }
   ],
   "source": [
    "bank.get_customer(\"Andreas\")"
   ]
  },
  {
   "cell_type": "code",
   "execution_count": 9,
   "id": "8301a08f",
   "metadata": {},
   "outputs": [
    {
     "name": "stdout",
     "output_type": "stream",
     "text": [
      "Julia, lösen\n",
      "Malin, lösen\n",
      "Joakim, lösen\n"
     ]
    }
   ],
   "source": [
    "bank.get_customers()"
   ]
  },
  {
   "cell_type": "code",
   "execution_count": 10,
   "id": "beaa6dd9",
   "metadata": {},
   "outputs": [
    {
     "name": "stdout",
     "output_type": "stream",
     "text": [
      "User logged in.\n"
     ]
    }
   ],
   "source": [
    "bank.login(\"Julia\", \"lösen\")"
   ]
  },
  {
   "cell_type": "code",
   "execution_count": 11,
   "id": "fa468558",
   "metadata": {},
   "outputs": [],
   "source": [
    "customer = Customer(\"Julia\", \"lösen\")"
   ]
  },
  {
   "cell_type": "code",
   "execution_count": 12,
   "id": "fdd1301c",
   "metadata": {},
   "outputs": [
    {
     "name": "stdout",
     "output_type": "stream",
     "text": [
      "Account added.\n"
     ]
    }
   ],
   "source": [
    "customer.add_account(1)"
   ]
  },
  {
   "cell_type": "code",
   "execution_count": 13,
   "id": "5100e23b",
   "metadata": {},
   "outputs": [
    {
     "name": "stdout",
     "output_type": "stream",
     "text": [
      "Account added.\n"
     ]
    }
   ],
   "source": [
    "customer.add_account(114)"
   ]
  },
  {
   "cell_type": "code",
   "execution_count": 14,
   "id": "6220af53",
   "metadata": {},
   "outputs": [
    {
     "name": "stdout",
     "output_type": "stream",
     "text": [
      "Account added.\n"
     ]
    }
   ],
   "source": [
    "bank.add_account(101)"
   ]
  },
  {
   "cell_type": "code",
   "execution_count": 15,
   "id": "ce36c859",
   "metadata": {},
   "outputs": [
    {
     "data": {
      "text/plain": [
       "[Accountnumber: 2, Balance: 101]"
      ]
     },
     "execution_count": 15,
     "metadata": {},
     "output_type": "execute_result"
    }
   ],
   "source": [
    "bank.get_accounts()"
   ]
  },
  {
   "cell_type": "code",
   "execution_count": 16,
   "id": "f84b639c",
   "metadata": {},
   "outputs": [
    {
     "name": "stdout",
     "output_type": "stream",
     "text": [
      "Not a valid number.\n"
     ]
    }
   ],
   "source": [
    "bank.remove_account(1)"
   ]
  },
  {
   "cell_type": "code",
   "execution_count": 17,
   "id": "c57d2098",
   "metadata": {},
   "outputs": [
    {
     "name": "stdout",
     "output_type": "stream",
     "text": [
      "Success!\n"
     ]
    }
   ],
   "source": [
    "bank.remove_account(2)"
   ]
  },
  {
   "cell_type": "code",
   "execution_count": 18,
   "id": "268956db",
   "metadata": {},
   "outputs": [
    {
     "name": "stdout",
     "output_type": "stream",
     "text": [
      "Password successfully changed.\n"
     ]
    },
    {
     "data": {
      "text/plain": [
       "'nyttlösen'"
      ]
     },
     "execution_count": 18,
     "metadata": {},
     "output_type": "execute_result"
    }
   ],
   "source": [
    "bank.change_customer_password(\"Julia\", \"nyttlösen\")"
   ]
  },
  {
   "cell_type": "code",
   "execution_count": 19,
   "id": "16efbf12",
   "metadata": {},
   "outputs": [
    {
     "data": {
      "text/plain": [
       "[]"
      ]
     },
     "execution_count": 19,
     "metadata": {},
     "output_type": "execute_result"
    }
   ],
   "source": [
    "bank.get_accounts()"
   ]
  },
  {
   "cell_type": "code",
   "execution_count": 20,
   "id": "91d4808f",
   "metadata": {},
   "outputs": [
    {
     "name": "stdout",
     "output_type": "stream",
     "text": [
      "Account added.\n"
     ]
    }
   ],
   "source": [
    "bank.add_account(10)"
   ]
  },
  {
   "cell_type": "code",
   "execution_count": 21,
   "id": "eb83452f",
   "metadata": {},
   "outputs": [
    {
     "name": "stdout",
     "output_type": "stream",
     "text": [
      "Account added.\n"
     ]
    }
   ],
   "source": [
    "bank.add_account(10)"
   ]
  },
  {
   "cell_type": "code",
   "execution_count": 22,
   "id": "32c500b1",
   "metadata": {},
   "outputs": [
    {
     "data": {
      "text/plain": [
       "[Accountnumber: 3, Balance: 10, Accountnumber: 4, Balance: 10]"
      ]
     },
     "execution_count": 22,
     "metadata": {},
     "output_type": "execute_result"
    }
   ],
   "source": [
    "bank.get_accounts()"
   ]
  },
  {
   "cell_type": "code",
   "execution_count": 23,
   "id": "f4636dfc",
   "metadata": {},
   "outputs": [
    {
     "name": "stdout",
     "output_type": "stream",
     "text": [
      "Deposit succeeded.\n"
     ]
    }
   ],
   "source": [
    "bank.deposit(3, 10)"
   ]
  },
  {
   "cell_type": "code",
   "execution_count": 24,
   "id": "7c27956b",
   "metadata": {},
   "outputs": [
    {
     "name": "stdout",
     "output_type": "stream",
     "text": [
      "Deposit succeeded.\n"
     ]
    }
   ],
   "source": [
    "bank.deposit(3, 5)"
   ]
  },
  {
   "cell_type": "code",
   "execution_count": 25,
   "id": "45c8577a",
   "metadata": {},
   "outputs": [
    {
     "data": {
      "text/plain": [
       "[Accountnumber: 3, Balance: 25, Accountnumber: 4, Balance: 10]"
      ]
     },
     "execution_count": 25,
     "metadata": {},
     "output_type": "execute_result"
    }
   ],
   "source": [
    "bank.get_accounts()"
   ]
  },
  {
   "cell_type": "code",
   "execution_count": 26,
   "id": "6fda59e0",
   "metadata": {},
   "outputs": [
    {
     "name": "stdout",
     "output_type": "stream",
     "text": [
      "User not online.\n"
     ]
    }
   ],
   "source": [
    "bank.withdraw(3, 10)"
   ]
  },
  {
   "cell_type": "code",
   "execution_count": 27,
   "id": "a89868ae",
   "metadata": {},
   "outputs": [
    {
     "data": {
      "text/plain": [
       "[Accountnumber: 3, Balance: 25, Accountnumber: 4, Balance: 10]"
      ]
     },
     "execution_count": 27,
     "metadata": {},
     "output_type": "execute_result"
    }
   ],
   "source": [
    "bank.get_accounts()"
   ]
  },
  {
   "cell_type": "code",
   "execution_count": 28,
   "id": "2fd43a9c",
   "metadata": {},
   "outputs": [
    {
     "name": "stdout",
     "output_type": "stream",
     "text": [
      "User not online.\n"
     ]
    }
   ],
   "source": [
    "bank.withdraw(3, 100)"
   ]
  },
  {
   "cell_type": "code",
   "execution_count": 29,
   "id": "5b71c772",
   "metadata": {},
   "outputs": [
    {
     "name": "stdout",
     "output_type": "stream",
     "text": [
      "Julia [Accountnumber: 2, Balance: 1, Accountnumber: 3, Balance: 114]\n"
     ]
    }
   ],
   "source": [
    "customer.print_info()"
   ]
  },
  {
   "cell_type": "code",
   "execution_count": 30,
   "id": "bc12a979",
   "metadata": {},
   "outputs": [
    {
     "name": "stdout",
     "output_type": "stream",
     "text": [
      "User logged out.\n"
     ]
    }
   ],
   "source": [
    "bank.logout()"
   ]
  },
  {
   "cell_type": "code",
   "execution_count": 31,
   "id": "016fb357",
   "metadata": {},
   "outputs": [
    {
     "name": "stdout",
     "output_type": "stream",
     "text": [
      "User not online.\n"
     ]
    }
   ],
   "source": [
    "bank.get_account(2)"
   ]
  },
  {
   "cell_type": "code",
   "execution_count": 32,
   "id": "f4055ffa",
   "metadata": {},
   "outputs": [
    {
     "name": "stdout",
     "output_type": "stream",
     "text": [
      "User not online.\n"
     ]
    }
   ],
   "source": [
    "bank.get_accounts()"
   ]
  },
  {
   "cell_type": "code",
   "execution_count": 33,
   "id": "4dd7cf68",
   "metadata": {},
   "outputs": [
    {
     "name": "stdout",
     "output_type": "stream",
     "text": [
      "User not online.\n"
     ]
    }
   ],
   "source": [
    "bank.remove_account(2)"
   ]
  },
  {
   "cell_type": "code",
   "execution_count": 34,
   "id": "ba0220f4",
   "metadata": {},
   "outputs": [
    {
     "name": "stdout",
     "output_type": "stream",
     "text": [
      "User not logged in.\n"
     ]
    }
   ],
   "source": [
    "bank.change_customer_password(\"Julia\", \"hej\")"
   ]
  },
  {
   "cell_type": "code",
   "execution_count": 35,
   "id": "8fd8903e",
   "metadata": {},
   "outputs": [
    {
     "name": "stdout",
     "output_type": "stream",
     "text": [
      "User not online.\n"
     ]
    }
   ],
   "source": [
    "bank.add_account(\"Julia\")"
   ]
  },
  {
   "cell_type": "code",
   "execution_count": 36,
   "id": "bfe68914",
   "metadata": {},
   "outputs": [
    {
     "name": "stdout",
     "output_type": "stream",
     "text": [
      "User logged in.\n"
     ]
    }
   ],
   "source": [
    "bank.login(\"Julia\", \"nyttlösen\")"
   ]
  },
  {
   "cell_type": "code",
   "execution_count": 37,
   "id": "0a14faba",
   "metadata": {},
   "outputs": [
    {
     "name": "stdout",
     "output_type": "stream",
     "text": [
      "User logged in.\n"
     ]
    }
   ],
   "source": [
    "bank.login(\"Julia\", \"nyttlösen\")"
   ]
  },
  {
   "cell_type": "code",
   "execution_count": 38,
   "id": "bd29c7a7",
   "metadata": {},
   "outputs": [
    {
     "name": "stdout",
     "output_type": "stream",
     "text": [
      "Julia [Accountnumber: 2, Balance: 1, Accountnumber: 3, Balance: 114]\n"
     ]
    }
   ],
   "source": [
    "customer.print_info()"
   ]
  },
  {
   "cell_type": "code",
   "execution_count": 39,
   "id": "d5baf8a3",
   "metadata": {},
   "outputs": [
    {
     "name": "stdout",
     "output_type": "stream",
     "text": [
      "Can't be a negative number.\n"
     ]
    }
   ],
   "source": [
    "bank.deposit(2, -100)"
   ]
  },
  {
   "cell_type": "code",
   "execution_count": 40,
   "id": "c71bfb1f",
   "metadata": {},
   "outputs": [
    {
     "name": "stdout",
     "output_type": "stream",
     "text": [
      "Can't be a negative number.\n"
     ]
    }
   ],
   "source": [
    "bank.withdraw(2, -100)"
   ]
  },
  {
   "cell_type": "code",
   "execution_count": 41,
   "id": "0f9c00f5",
   "metadata": {},
   "outputs": [
    {
     "name": "stdout",
     "output_type": "stream",
     "text": [
      "Julia [Accountnumber: 2, Balance: 1, Accountnumber: 3, Balance: 114]\n"
     ]
    }
   ],
   "source": [
    "customer.print_info()"
   ]
  },
  {
   "cell_type": "code",
   "execution_count": 42,
   "id": "30a5fed7",
   "metadata": {},
   "outputs": [],
   "source": [
    "account = Account(1, 10)"
   ]
  },
  {
   "cell_type": "code",
   "execution_count": 43,
   "id": "05fdfeda",
   "metadata": {},
   "outputs": [
    {
     "name": "stdout",
     "output_type": "stream",
     "text": [
      " Accountnumber: 1, Balance: 10\n"
     ]
    }
   ],
   "source": [
    "account.print_info()"
   ]
  },
  {
   "cell_type": "code",
   "execution_count": 44,
   "id": "00e1f003",
   "metadata": {},
   "outputs": [
    {
     "name": "stdout",
     "output_type": "stream",
     "text": [
      " Accountnumber: 1, Balance: 10\n"
     ]
    }
   ],
   "source": [
    "account.print_info()"
   ]
  },
  {
   "cell_type": "code",
   "execution_count": 45,
   "id": "e3778155",
   "metadata": {},
   "outputs": [
    {
     "data": {
      "text/plain": [
       "[Accountnumber: 3, Balance: 25, Accountnumber: 4, Balance: 10]"
      ]
     },
     "execution_count": 45,
     "metadata": {},
     "output_type": "execute_result"
    }
   ],
   "source": [
    "bank.get_accounts()"
   ]
  },
  {
   "cell_type": "code",
   "execution_count": 46,
   "id": "fe7c8edd",
   "metadata": {},
   "outputs": [
    {
     "name": "stdout",
     "output_type": "stream",
     "text": [
      "Julia, nyttlösen\n",
      "Malin, lösen\n",
      "Joakim, lösen\n"
     ]
    }
   ],
   "source": [
    "bank.get_customers()"
   ]
  },
  {
   "cell_type": "code",
   "execution_count": 47,
   "id": "ad84b79b",
   "metadata": {},
   "outputs": [
    {
     "name": "stdout",
     "output_type": "stream",
     "text": [
      "Username already exist.\n"
     ]
    }
   ],
   "source": [
    "bank.add_customer(\"Julia\", \"lösen\")"
   ]
  },
  {
   "cell_type": "code",
   "execution_count": 48,
   "id": "0af1dabf",
   "metadata": {},
   "outputs": [
    {
     "data": {
      "text/plain": [
       "username: Julia, password: nyttlösen"
      ]
     },
     "execution_count": 48,
     "metadata": {},
     "output_type": "execute_result"
    }
   ],
   "source": [
    "bank.get_customer(\"Julia\")"
   ]
  },
  {
   "cell_type": "code",
   "execution_count": 49,
   "id": "75ea1008",
   "metadata": {},
   "outputs": [
    {
     "name": "stdout",
     "output_type": "stream",
     "text": [
      "Julia, nyttlösen\n",
      "Malin, lösen\n",
      "Joakim, lösen\n"
     ]
    }
   ],
   "source": [
    "bank.get_customers()"
   ]
  },
  {
   "cell_type": "code",
   "execution_count": 50,
   "id": "b94f3264",
   "metadata": {},
   "outputs": [],
   "source": [
    "bank.add_customer(\"hehe\", \"lösen\")"
   ]
  },
  {
   "cell_type": "code",
   "execution_count": 51,
   "id": "2cc74355",
   "metadata": {},
   "outputs": [],
   "source": [
    "bank.login(\"Julia\", \"lösen\")"
   ]
  },
  {
   "cell_type": "code",
   "execution_count": 52,
   "id": "bbcb6337",
   "metadata": {},
   "outputs": [
    {
     "name": "stdout",
     "output_type": "stream",
     "text": [
      "User logged out.\n"
     ]
    }
   ],
   "source": [
    "bank.logout()"
   ]
  },
  {
   "cell_type": "code",
   "execution_count": 53,
   "id": "3973736b",
   "metadata": {},
   "outputs": [
    {
     "name": "stdout",
     "output_type": "stream",
     "text": [
      "User logged in.\n"
     ]
    }
   ],
   "source": [
    "bank.login(\"Malin\", \"lösen\")"
   ]
  },
  {
   "cell_type": "code",
   "execution_count": 54,
   "id": "0b9edeac",
   "metadata": {},
   "outputs": [],
   "source": [
    "bank.login(\"Julia\", \"lösen\")"
   ]
  },
  {
   "cell_type": "code",
   "execution_count": 55,
   "id": "436caf1e",
   "metadata": {},
   "outputs": [
    {
     "name": "stdout",
     "output_type": "stream",
     "text": [
      "User logged out.\n"
     ]
    }
   ],
   "source": [
    "bank.logout()"
   ]
  },
  {
   "cell_type": "code",
   "execution_count": 56,
   "id": "dc167765",
   "metadata": {},
   "outputs": [],
   "source": [
    "bank.save_customer()"
   ]
  },
  {
   "cell_type": "code",
   "execution_count": 57,
   "id": "edbc1122",
   "metadata": {},
   "outputs": [
    {
     "name": "stdout",
     "output_type": "stream",
     "text": [
      "Customer: Julia, Password: nyttlösen\n",
      "Account: 3, Balance: 25\n",
      "Account: 4, Balance: 10\n",
      "Customer: Malin, Password: lösen\n",
      "Customer: Joakim, Password: lösen\n",
      "Customer: hehe, Password: lösen\n"
     ]
    }
   ],
   "source": [
    "bank.load_customer()"
   ]
  },
  {
   "cell_type": "code",
   "execution_count": null,
   "id": "e92ad065",
   "metadata": {},
   "outputs": [],
   "source": []
  }
 ],
 "metadata": {
  "kernelspec": {
   "display_name": "Python 3 (ipykernel)",
   "language": "python",
   "name": "python3"
  },
  "language_info": {
   "codemirror_mode": {
    "name": "ipython",
    "version": 3
   },
   "file_extension": ".py",
   "mimetype": "text/x-python",
   "name": "python",
   "nbconvert_exporter": "python",
   "pygments_lexer": "ipython3",
   "version": "3.9.13"
  }
 },
 "nbformat": 4,
 "nbformat_minor": 5
}
